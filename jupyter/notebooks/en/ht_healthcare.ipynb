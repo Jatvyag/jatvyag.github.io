{
 "cells": [
  {
   "cell_type": "markdown",
   "id": "59090772-03e5-4a43-a7c7-eebdfa709342",
   "metadata": {},
   "source": [
    "# Hypothesis Testing in Healthcare: Drug Safety\n",
    "## Hypothesis Testing in Healthcare and Drug Safety\n",
    "\n",
    "A pharmaceutical company GlobalXYZ has just completed a randomized controlled drug trial. To promote transparency and reproducibility of the drug's outcome, they (GlobalXYZ) have presented the dataset to your organization, a non-profit that focuses primarily on drug safety.\n",
    "\n",
    "The dataset provided contained five adverse effects, demographic data, vital signs, etc. Your organization is primarily interested in the drug's adverse reactions. It wants to know if the adverse reactions, if any, are of significant proportions. It has asked you to explore and answer some questions from the data.\n",
    "\n",
    "The dataset `drug_safety.csv` was obtained from [Hbiostat](https://hbiostat.org/data/) courtesy of the Vanderbilt University Department of Biostatistics. It contained five adverse effects: headache, abdominal pain, dyspepsia, upper respiratory infection, chronic obstructive airway disease (COAD), demographic data, vital signs, lab measures, etc. The ratio of drug observations to placebo observations is 2 to 1.\n",
    "\n",
    "For this project, the dataset has been modified to reflect the presence and absence of adverse effects `adverse_effects` and the number of adverse effects in a single individual `num_effects`.\n",
    "\n",
    "The columns in the modified dataset are: \n",
    "\n",
    "| Column | Description |\n",
    "|--------|-------------|\n",
    "|`sex` | The gender of the individual |\n",
    "|`age` | The age of the individual |\n",
    "|`week` | The week of the drug testing |\n",
    "|`trx` | The treatment (Drug) and control (Placebo) groups | \n",
    "|`wbc` | The count of white blood cells |\n",
    "|`rbc` | The count of red blood cells |\n",
    "|`adverse_effects` | The presence of at least a single adverse effect |\n",
    "|`num_effects` | The number of adverse effects experienced by a single individual |\n",
    "\n",
    "The original dataset can be found [here](https://hbiostat.org/data/repo/safety.rda)"
   ]
  },
  {
   "cell_type": "code",
   "execution_count": 9,
   "id": "62dc2a93-8a9c-4757-8aac-214c5de63e74",
   "metadata": {
    "executionCancelledAt": null,
    "executionTime": 25,
    "lastExecutedAt": 1698332958133,
    "lastScheduledRunId": null,
    "lastSuccessfullyExecutedCode": "# Import packages\nimport numpy as np\nimport pandas as pd\nfrom scipy.stats import norm\nfrom statsmodels.stats.proportion import proportions_ztest\nimport pingouin\nimport seaborn as sns\nimport matplotlib.pyplot as plt\n\n# Load the dataset\ndrug_safety = pd.read_csv(\"drug_safety.csv\")"
   },
   "outputs": [],
   "source": [
    "# Import packages\n",
    "import numpy as np\n",
    "import pandas as pd\n",
    "from scipy.stats import norm\n",
    "from statsmodels.stats.proportion import proportions_ztest\n",
    "import pingouin\n",
    "import seaborn as sns\n",
    "import matplotlib.pyplot as plt\n",
    "\n",
    "# Load the dataset\n",
    "drug_safety = pd.read_csv(\"drug_safety.csv\")"
   ]
  },
  {
   "cell_type": "code",
   "execution_count": 10,
   "id": "28ef049b-1e35-446a-bf1e-57f5c136389d",
   "metadata": {
    "executionCancelledAt": null,
    "executionTime": 239,
    "lastExecutedAt": 1698332958372,
    "lastScheduledRunId": null,
    "lastSuccessfullyExecutedCode": "# The distribution of adverse effects\nplot_num_eff = sns.countplot(x='num_effects', hue='trx', data=drug_safety)\n\n# Set the x axis label and title\nplt.xlabel(\"Number of Adverse Effects\")\nplt.title(\"Distribution of the Number of Effects Between the Groups\")"
   },
   "outputs": [
    {
     "data": {
      "text/plain": [
       "Text(0.5, 1.0, 'Distribution of the Number of Effects Between the Groups')"
      ]
     },
     "execution_count": 10,
     "metadata": {},
     "output_type": "execute_result"
    },
    {
     "data": {
      "image/png": "[encoded data removed]",
      "text/plain": [
       "<Figure size 640x480 with 1 Axes>"
      ]
     },
     "metadata": {},
     "output_type": "display_data"
    }
   ],
   "source": [
    "# The distribution of adverse effects\n",
    "plot_num_eff = sns.countplot(x='num_effects', hue='trx', data=drug_safety)\n",
    "\n",
    "# Set the x axis label and title\n",
    "plt.xlabel(\"Number of Adverse Effects\")\n",
    "plt.title(\"Distribution of the Number of Effects Between the Groups\")"
   ]
  },
  {
   "cell_type": "code",
   "execution_count": 11,
   "id": "5ff4e89b-4089-4634-8d2d-32d004849b24",
   "metadata": {
    "executionCancelledAt": null,
    "executionTime": 52,
    "lastExecutedAt": 1698332958425,
    "lastScheduledRunId": null,
    "lastSuccessfullyExecutedCode": "# Two samples proportions z test\ndrug_safety.groupby('trx')['adverse_effects'].value_counts()\nn_yes = np.array([1024, 512])\nn_rows = np.array([9703+1024, 4864+512])\ntwo_samp_z_stat, two_samp_z_p_value = proportions_ztest(n_yes, n_rows, alternative='two-sided')\n\n# Round to three decimal places\ntwo_samp_z_stat = np.round(two_samp_z_stat, 3)\ntwo_samp_z_p_value = np.round(two_samp_z_p_value, 3)\n\nif two_samp_z_p_value > 0.05:\n    print(f'P-value is {two_samp_z_p_value:.3f}. Probably the same proportion')\nelse:\n    print(f'P-value is {two_samp_z_p_value:.3f}. Probably different proportion')",
    "outputsMetadata": {
     "0": {
      "height": 38,
      "type": "stream"
     }
    }
   },
   "outputs": [
    {
     "name": "stdout",
     "output_type": "stream",
     "text": [
      "P-value is 0.964. Probably the same proportion\n"
     ]
    }
   ],
   "source": [
    "# Two samples proportions z test\n",
    "drug_safety.groupby('trx')['adverse_effects'].value_counts()\n",
    "n_yes = np.array([1024, 512])\n",
    "n_rows = np.array([9703+1024, 4864+512])\n",
    "two_samp_z_stat, two_samp_z_p_value = proportions_ztest(n_yes, n_rows, alternative='two-sided')\n",
    "\n",
    "# Round to three decimal places\n",
    "two_samp_z_stat = np.round(two_samp_z_stat, 3)\n",
    "two_samp_z_p_value = np.round(two_samp_z_p_value, 3)\n",
    "\n",
    "if two_samp_z_p_value > 0.05:\n",
    "    print(f'P-value is {two_samp_z_p_value:.3f}. Probably the same proportion')\n",
    "else:\n",
    "    print(f'P-value is {two_samp_z_p_value:.3f}. Probably different proportion')"
   ]
  },
  {
   "cell_type": "code",
   "execution_count": 12,
   "id": "17813a98-9d67-4da2-8ba4-e7506527dbf4",
   "metadata": {
    "executionCancelledAt": null,
    "executionTime": 52,
    "lastExecutedAt": 1698332958477,
    "lastScheduledRunId": null,
    "lastSuccessfullyExecutedCode": "# Association between adverse effects and the groups\nexpected, observed, stats = pingouin.chi2_independence(x='num_effects', y='trx', data=drug_safety)\n\n# Round the test statistics to three decimal places\nstats = stats.round(3)\n\npearson_num_effect_trx = stats[stats['test'] == 'pearson']\npearson_num_effect_trx",
    "outputsMetadata": {
     "0": {
      "height": 50,
      "tableState": {
       "customFilter": {
        "const": {
         "type": "boolean",
         "valid": true,
         "value": true
        },
        "id": "f21aa2ce-1704-4604-8526-94ab579ab28a",
        "nodeType": "const"
       }
      },
      "type": "dataFrame"
     }
    }
   },
   "outputs": [
    {
     "data": {
      "application/com.datacamp.data-table.v1+json": {
       "table": {
        "data": [
         {
          "chi2": 1.8,
          "cramer": 0.011,
          "dof": 3,
          "index": 0,
          "lambda": 1,
          "power": 0.176,
          "pval": 0.615,
          "test": "pearson"
         }
        ],
        "schema": {
         "fields": [
          {
           "name": "index",
           "type": "integer"
          },
          {
           "name": "test",
           "type": "string"
          },
          {
           "name": "lambda",
           "type": "number"
          },
          {
           "name": "chi2",
           "type": "number"
          },
          {
           "name": "dof",
           "type": "number"
          },
          {
           "name": "pval",
           "type": "number"
          },
          {
           "name": "cramer",
           "type": "number"
          },
          {
           "name": "power",
           "type": "number"
          }
         ],
         "pandas_version": "1.4.0",
         "primaryKey": [
          "index"
         ]
        }
       },
       "total_rows": 1,
       "truncation_type": null
      },
      "text/html": [
       "<div>\n",
       "<style scoped>\n",
       "    .dataframe tbody tr th:only-of-type {\n",
       "        vertical-align: middle;\n",
       "    }\n",
       "\n",
       "    .dataframe tbody tr th {\n",
       "        vertical-align: top;\n",
       "    }\n",
       "\n",
       "    .dataframe thead th {\n",
       "        text-align: right;\n",
       "    }\n",
       "</style>\n",
       "<table border=\"1\" class=\"dataframe\">\n",
       "  <thead>\n",
       "    <tr style=\"text-align: right;\">\n",
       "      <th></th>\n",
       "      <th>test</th>\n",
       "      <th>lambda</th>\n",
       "      <th>chi2</th>\n",
       "      <th>dof</th>\n",
       "      <th>pval</th>\n",
       "      <th>cramer</th>\n",
       "      <th>power</th>\n",
       "    </tr>\n",
       "  </thead>\n",
       "  <tbody>\n",
       "    <tr>\n",
       "      <th>0</th>\n",
       "      <td>pearson</td>\n",
       "      <td>1.0</td>\n",
       "      <td>1.8</td>\n",
       "      <td>3.0</td>\n",
       "      <td>0.615</td>\n",
       "      <td>0.011</td>\n",
       "      <td>0.176</td>\n",
       "    </tr>\n",
       "  </tbody>\n",
       "</table>\n",
       "</div>"
      ],
      "text/plain": [
       "      test  lambda  chi2  dof   pval  cramer  power\n",
       "0  pearson     1.0   1.8  3.0  0.615   0.011  0.176"
      ]
     },
     "execution_count": 12,
     "metadata": {},
     "output_type": "execute_result"
    }
   ],
   "source": [
    "# Association between adverse effects and the groups\n",
    "expected, observed, stats = pingouin.chi2_independence(x='num_effects', y='trx', data=drug_safety)\n",
    "\n",
    "# Round the test statistics to three decimal places\n",
    "stats = stats.round(3)\n",
    "\n",
    "pearson_num_effect_trx = stats[stats['test'] == 'pearson']\n",
    "pearson_num_effect_trx"
   ]
  },
  {
   "cell_type": "markdown",
   "id": "587e820d",
   "metadata": {},
   "source": [
    "## Results"
   ]
  },
  {
   "cell_type": "code",
   "execution_count": 13,
   "id": "e8b267ff-2670-4a8e-9fdf-2ed2edadab7c",
   "metadata": {
    "executionCancelledAt": null,
    "executionTime": 339,
    "lastExecutedAt": 1698332958816,
    "lastScheduledRunId": null,
    "lastSuccessfullyExecutedCode": "sns.histplot(x='age', hue='trx', data=drug_safety)"
   },
   "outputs": [
    {
     "data": {
      "text/plain": [
       "<AxesSubplot: xlabel='age', ylabel='Count'>"
      ]
     },
     "execution_count": 13,
     "metadata": {},
     "output_type": "execute_result"
    },
    {
     "data": {
      "image/png": "[encoded data removed]",
      "text/plain": [
       "<Figure size 640x480 with 1 Axes>"
      ]
     },
     "metadata": {},
     "output_type": "display_data"
    }
   ],
   "source": [
    "sns.histplot(x='age', hue='trx', data=drug_safety)"
   ]
  },
  {
   "cell_type": "code",
   "execution_count": 14,
   "id": "40653bfa-b1ab-4158-a7a8-fc8f8364e1c2",
   "metadata": {
    "executionCancelledAt": null,
    "executionTime": 49,
    "lastExecutedAt": 1698332958865,
    "lastScheduledRunId": null,
    "lastSuccessfullyExecutedCode": "# Shapiro-Wilk Normality Test\nfrom scipy.stats import shapiro\nage_data = drug_safety.age\nstat, p = shapiro(age_data)\nprint('stat=%.2f, p=%.2f' % (stat, p))\nif p > 0.05:\n    print('Probably Gaussian')\nelse:\n    print('Probably not Gaussian')",
    "outputsMetadata": {
     "0": {
      "height": 59,
      "type": "stream"
     }
    }
   },
   "outputs": [
    {
     "name": "stdout",
     "output_type": "stream",
     "text": [
      "stat=0.98, p=0.00\n",
      "Probably not Gaussian\n"
     ]
    }
   ],
   "source": [
    "# Shapiro-Wilk Normality Test\n",
    "from scipy.stats import shapiro\n",
    "age_data = drug_safety.age\n",
    "stat, p = shapiro(age_data)\n",
    "print('stat=%.2f, p=%.2f' % (stat, p))\n",
    "if p > 0.05:\n",
    "    print('Probably Gaussian')\n",
    "else:\n",
    "    print('Probably not Gaussian')"
   ]
  },
  {
   "cell_type": "code",
   "execution_count": 15,
   "id": "3626bab3-4381-42f0-98df-0df1223fbc03",
   "metadata": {
    "executionCancelledAt": null,
    "executionTime": 263,
    "lastExecutedAt": 1698332959128,
    "lastScheduledRunId": null,
    "lastSuccessfullyExecutedCode": "# Significant difference between the ages of both groups\ndrug_group = drug_safety[drug_safety['trx'] == 'Drug']['age']\nplacebo_group = drug_safety[drug_safety['trx'] == 'Placebo']['age']\ntwo_ind_samp_results = pingouin.mwu(drug_group, placebo_group).round(3)\nprint(two_ind_samp_results)\nif two_ind_samp_results['p-val'][0] > 0.05:\n    print(f'Probably the same proportion')\nelse:\n    print(f'Probably different proportion')",
    "outputsMetadata": {
     "0": {
      "height": 80,
      "type": "stream"
     }
    }
   },
   "outputs": [
    {
     "name": "stdout",
     "output_type": "stream",
     "text": [
      "          U-val alternative  p-val    RBC   CLES\n",
      "MWU  29149339.5   two-sided  0.257 -0.011  0.505\n",
      "Probably the same proportion\n"
     ]
    }
   ],
   "source": [
    "# Significant difference between the ages of both groups\n",
    "drug_group = drug_safety[drug_safety['trx'] == 'Drug']['age']\n",
    "placebo_group = drug_safety[drug_safety['trx'] == 'Placebo']['age']\n",
    "two_ind_samp_results = pingouin.mwu(drug_group, placebo_group).round(3)\n",
    "print(two_ind_samp_results)\n",
    "if two_ind_samp_results['p-val'][0] > 0.05:\n",
    "    print(f'Probably the same proportion')\n",
    "else:\n",
    "    print(f'Probably different proportion')"
   ]
  }
 ],
 "metadata": {
  "colab": {
   "name": "Welcome to DataCamp Workspaces.ipynb",
   "provenance": []
  },
  "kernelspec": {
   "display_name": "Python 3 (ipykernel)",
   "language": "python",
   "name": "python3"
  },
  "language_info": {
   "codemirror_mode": {
    "name": "ipython",
    "version": 3
   },
   "file_extension": ".py",
   "mimetype": "text/x-python",
   "name": "python",
   "nbconvert_exporter": "python",
   "pygments_lexer": "ipython3",
   "version": "3.8.10"
  }
 },
 "nbformat": 4,
 "nbformat_minor": 5
}
