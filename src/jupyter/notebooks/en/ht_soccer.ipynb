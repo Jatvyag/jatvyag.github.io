{
 "cells": [
  {
   "cell_type": "markdown",
   "id": "3ed0edb2-696b-49ab-9db0-681defcce695",
   "metadata": {},
   "source": [
    "# Hypothesis Testing with Men's and Women's Soccer Matches\n",
    "## Intro\n",
    "\n",
    "You're working as a sports journalist at a major online sports media company, specializing in soccer analysis and reporting. You've been watching both men's and women's international soccer matches for a number of years, and your gut instinct tells you that more goals are scored in women's international football matches than men's. This would make an interesting investigative article that your subscribers are bound to love, but you'll need to perform a valid statistical hypothesis test to be sure!\n",
    "\n",
    "While scoping this project, you acknowledge that the sport has changed a lot over the years, and performances likely vary a lot depending on the tournament, so you decide to limit the data used in the analysis to only official `FIFA World Cup` matches (not including qualifiers) since `2002-01-01`.\n",
    "\n",
    "You create two datasets containing the results of every official men's and women's international football match since the 19th century, which you scraped from a reliable online source. This data is stored in two CSV files: `women_results.csv` and `men_results.csv`.\n",
    "\n",
    "The question you are trying to determine the answer to is:\n",
    "\n",
    "> Are more goals scored in women's international soccer matches than men's?\n",
    "\n",
    "You assume a **10% significance level**, and use the following null and alternative hypotheses:\n",
    "\n",
    "$H_0$ : The mean number of goals scored in women's international soccer matches is the same as men's.\n",
    "\n",
    "$H_A$ : The mean number of goals scored in women's international soccer matches is greater than men's."
   ]
  },
  {
   "cell_type": "code",
   "execution_count": 118,
   "id": "84a3c4c8-534b-4d1a-9919-17e05208b2ca",
   "metadata": {
    "executionCancelledAt": null,
    "executionTime": 48,
    "lastExecutedAt": 1698161597324,
    "lastScheduledRunId": null,
    "lastSuccessfullyExecutedCode": "# importing necessary libraries\nimport pandas as pd\nimport numpy as np\nimport scipy.stats as sc\nimport matplotlib.pyplot as plt\nimport seaborn as sns"
   },
   "outputs": [],
   "source": [
    "# importing necessary libraries\n",
    "import pandas as pd\n",
    "import numpy as np\n",
    "import scipy.stats as sc\n",
    "import matplotlib.pyplot as plt\n",
    "import seaborn as sns"
   ]
  },
  {
   "cell_type": "code",
   "execution_count": 119,
   "id": "d819d0cd-9782-4a77-a348-bfde742b6e19",
   "metadata": {
    "executionCancelledAt": null,
    "executionTime": 71,
    "lastExecutedAt": 1698161597396,
    "lastScheduledRunId": null,
    "lastSuccessfullyExecutedCode": "# explore men's data\nm_results = pd.read_csv('men_results.csv', parse_dates=['date'])\nm_results.info()",
    "outputsMetadata": {
     "0": {
      "height": 311,
      "type": "stream"
     }
    }
   },
   "outputs": [
    {
     "name": "stdout",
     "output_type": "stream",
     "text": [
      "<class 'pandas.core.frame.DataFrame'>\n",
      "RangeIndex: 44353 entries, 0 to 44352\n",
      "Data columns (total 7 columns):\n",
      " #   Column      Non-Null Count  Dtype         \n",
      "---  ------      --------------  -----         \n",
      " 0   Unnamed: 0  44353 non-null  int64         \n",
      " 1   date        44353 non-null  datetime64[ns]\n",
      " 2   home_team   44353 non-null  object        \n",
      " 3   away_team   44353 non-null  object        \n",
      " 4   home_score  44353 non-null  int64         \n",
      " 5   away_score  44353 non-null  int64         \n",
      " 6   tournament  44353 non-null  object        \n",
      "dtypes: datetime64[ns](1), int64(3), object(3)\n",
      "memory usage: 2.4+ MB\n"
     ]
    }
   ],
   "source": [
    "# explore men's data\n",
    "m_results = pd.read_csv('men_results.csv', parse_dates=['date'])\n",
    "m_results.info()"
   ]
  },
  {
   "cell_type": "code",
   "execution_count": 120,
   "id": "4c0a9c1d-3f31-4ffa-92d5-4cda4c037a24",
   "metadata": {
    "executionCancelledAt": null,
    "executionTime": 52,
    "lastExecutedAt": 1698161597449,
    "lastScheduledRunId": null,
    "lastSuccessfullyExecutedCode": "# explore women's data\nw_results = pd.read_csv('women_results.csv', parse_dates=['date'])\nw_results.info()",
    "outputsMetadata": {
     "0": {
      "height": 311,
      "type": "stream"
     }
    }
   },
   "outputs": [
    {
     "name": "stdout",
     "output_type": "stream",
     "text": [
      "<class 'pandas.core.frame.DataFrame'>\n",
      "RangeIndex: 4884 entries, 0 to 4883\n",
      "Data columns (total 7 columns):\n",
      " #   Column      Non-Null Count  Dtype         \n",
      "---  ------      --------------  -----         \n",
      " 0   Unnamed: 0  4884 non-null   int64         \n",
      " 1   date        4884 non-null   datetime64[ns]\n",
      " 2   home_team   4884 non-null   object        \n",
      " 3   away_team   4884 non-null   object        \n",
      " 4   home_score  4884 non-null   int64         \n",
      " 5   away_score  4884 non-null   int64         \n",
      " 6   tournament  4884 non-null   object        \n",
      "dtypes: datetime64[ns](1), int64(3), object(3)\n",
      "memory usage: 267.2+ KB\n"
     ]
    }
   ],
   "source": [
    "# explore women's data\n",
    "w_results = pd.read_csv('women_results.csv', parse_dates=['date'])\n",
    "w_results.info()"
   ]
  },
  {
   "cell_type": "code",
   "execution_count": 121,
   "id": "2a2ce618-74d0-4a0e-ac86-299b51596764",
   "metadata": {
    "executionCancelledAt": null,
    "executionTime": 47,
    "lastExecutedAt": 1698161597496,
    "lastScheduledRunId": null,
    "lastSuccessfullyExecutedCode": "# filtering men's tournaments\nm_results_fifa = m_results.loc[(m_results['tournament'] == 'FIFA World Cup') & (m_results['date'] >= '2002-01-01')]",
    "outputsMetadata": {
     "0": {
      "height": 315,
      "type": "dataFrame"
     }
    }
   },
   "outputs": [],
   "source": [
    "# filtering men's tournaments\n",
    "m_results_fifa = m_results.loc[(m_results['tournament'] == 'FIFA World Cup') & (m_results['date'] >= '2002-01-01')]"
   ]
  },
  {
   "cell_type": "code",
   "execution_count": 122,
   "id": "9c518e1a-5231-4615-87f6-99c22c3773bc",
   "metadata": {
    "executionCancelledAt": null,
    "executionTime": 47,
    "lastExecutedAt": 1698161597544,
    "lastScheduledRunId": null,
    "lastSuccessfullyExecutedCode": "# filtering women's tournaments\nw_results_fifa = w_results.loc[(w_results['tournament'] == 'FIFA World Cup') & (w_results['date'] >= '2002-01-01')]",
    "outputsMetadata": {
     "0": {
      "height": 193,
      "type": "dataFrame"
     }
    }
   },
   "outputs": [],
   "source": [
    "# filtering women's tournaments\n",
    "w_results_fifa = w_results.loc[(w_results['tournament'] == 'FIFA World Cup') & (w_results['date'] >= '2002-01-01')]"
   ]
  },
  {
   "cell_type": "markdown",
   "id": "2f1c7134",
   "metadata": {},
   "source": [
    "## Results"
   ]
  },
  {
   "cell_type": "code",
   "execution_count": 123,
   "id": "2ef2055a-ae3b-4e31-a07e-f0a523d7d42c",
   "metadata": {
    "executionCancelledAt": null,
    "executionTime": 256,
    "lastExecutedAt": 1698161597801,
    "lastScheduledRunId": null,
    "lastSuccessfullyExecutedCode": "# sample sizes and normality checks\nm_results_fifa['total_score'] = m_results_fifa['home_score'] + m_results_fifa['away_score']\nw_results_fifa['total_score'] = w_results_fifa['home_score'] + w_results_fifa['away_score']\n\nsns.histplot(x='total_score', data=m_results_fifa, label='Man\\'s matches')\nsns.histplot(x='total_score', data=w_results_fifa, label='Women\\'s matches')\nplt.xlabel('number of goals')\nplt.ylabel('number of matches')\nplt.legend()\nplt.show()\n\nnorm_alpha = 0.05\nstat_m, p_m = sc.shapiro(m_results_fifa.total_score)\nstat_w, p_w = sc.shapiro(m_results_fifa.total_score)\nprint(f'P-value for men\\'s soccer matches scores is:{p_m:.3f}.\\nP-value for women\\'s soccer matches scores is:{p_w:.3f}.\\nBoth p-values less than 0.5, so, samples are not normaly distributed.')",
    "outputsMetadata": {
     "0": {
      "height": 193,
      "type": "dataFrame"
     },
     "1": {
      "height": 80,
      "type": "stream"
     }
    }
   },
   "outputs": [
    {
     "data": {
      "image/png": "[encoded data removed]",
      "text/plain": [
       "<Figure size 640x480 with 1 Axes>"
      ]
     },
     "metadata": {},
     "output_type": "display_data"
    },
    {
     "name": "stdout",
     "output_type": "stream",
     "text": [
      "P-value for men's soccer matches scores is:0.000.\n",
      "P-value for women's soccer matches scores is:0.000.\n",
      "Both p-values less than 0.5, so, samples are not normaly distributed.\n"
     ]
    }
   ],
   "source": [
    "# sample sizes and normality checks\n",
    "m_results_fifa['total_score'] = m_results_fifa['home_score'] + m_results_fifa['away_score']\n",
    "w_results_fifa['total_score'] = w_results_fifa['home_score'] + w_results_fifa['away_score']\n",
    "\n",
    "sns.histplot(x='total_score', data=m_results_fifa, label='Man\\'s matches')\n",
    "sns.histplot(x='total_score', data=w_results_fifa, label='Women\\'s matches')\n",
    "plt.xlabel('number of goals')\n",
    "plt.ylabel('number of matches')\n",
    "plt.legend()\n",
    "plt.show()\n",
    "\n",
    "norm_alpha = 0.05\n",
    "stat_m, p_m = sc.shapiro(m_results_fifa.total_score)\n",
    "stat_w, p_w = sc.shapiro(m_results_fifa.total_score)\n",
    "print(f'P-value for men\\'s soccer matches scores is:{p_m:.3f}.\\nP-value for women\\'s soccer matches scores is:{p_w:.3f}.\\nBoth p-values less than 0.5, so, samples are not normaly distributed.')"
   ]
  },
  {
   "cell_type": "code",
   "execution_count": 124,
   "id": "4ef53550-cee7-48ea-9b81-9f538982c5b2",
   "metadata": {
    "executionCancelledAt": null,
    "executionTime": 52,
    "lastExecutedAt": 1698161597853,
    "lastScheduledRunId": null,
    "lastSuccessfullyExecutedCode": "# hypothesis testing\nm_data = m_results_fifa['total_score']\nw_data = w_results_fifa['total_score']\nstat, p = sc.mannwhitneyu(w_data, m_data, alternative='greater')\nprint('stat=%.2f, p=%.2f' % (stat, p))\nif p > 0.1:\n    print('Probably the same distribution')\nelse:\n    print('The distributions are different')\nm_av = np.mean(m_data)\nw_av = np.mean(w_data)\ndiff = w_av - m_av\nprint(f'On average, women\\'s FIFA soccer matches have {w_av:.2f} goals, man\\'s - {m_av:.2f}, which is {diff:.2f} goals more per match.')",
    "outputsMetadata": {
     "0": {
      "height": 80,
      "type": "stream"
     }
    }
   },
   "outputs": [
    {
     "name": "stdout",
     "output_type": "stream",
     "text": [
      "stat=43273.00, p=0.01\n",
      "The distributions are different\n",
      "On average, women's FIFA soccer matches have 2.98 goals, man's - 2.51, which is 0.47 goals more per match.\n"
     ]
    }
   ],
   "source": [
    "# hypothesis testing\n",
    "m_data = m_results_fifa['total_score']\n",
    "w_data = w_results_fifa['total_score']\n",
    "stat, p = sc.mannwhitneyu(w_data, m_data, alternative='greater')\n",
    "print('stat=%.2f, p=%.2f' % (stat, p))\n",
    "if p > 0.1:\n",
    "    print('Probably the same distribution')\n",
    "else:\n",
    "    print('The distributions are different')\n",
    "m_av = np.mean(m_data)\n",
    "w_av = np.mean(w_data)\n",
    "diff = w_av - m_av\n",
    "print(f'On average, women\\'s FIFA soccer matches have {w_av:.2f} goals, man\\'s - {m_av:.2f}, which is {diff:.2f} goals more per match.')"
   ]
  },
  {
   "cell_type": "code",
   "execution_count": 125,
   "id": "3b4f4280-98e0-4e0f-a67f-c8169e920350",
   "metadata": {
    "executionCancelledAt": null,
    "executionTime": 49,
    "lastExecutedAt": 1698161597902,
    "lastScheduledRunId": null,
    "lastSuccessfullyExecutedCode": "result_dict = {\"p_val\": p, \"result\": \"reject\"}"
   },
   "outputs": [],
   "source": [
    "result_dict = {\"p_val\": p, \"result\": \"reject\"}"
   ]
  }
 ],
 "metadata": {
  "colab": {
   "name": "Welcome to DataCamp Workspaces.ipynb",
   "provenance": []
  },
  "kernelspec": {
   "display_name": "Python 3 (ipykernel)",
   "language": "python",
   "name": "python3"
  },
  "language_info": {
   "codemirror_mode": {
    "name": "ipython",
    "version": 3
   },
   "file_extension": ".py",
   "mimetype": "text/x-python",
   "name": "python",
   "nbconvert_exporter": "python",
   "pygments_lexer": "ipython3",
   "version": "3.8.10"
  }
 },
 "nbformat": 4,
 "nbformat_minor": 5
}
