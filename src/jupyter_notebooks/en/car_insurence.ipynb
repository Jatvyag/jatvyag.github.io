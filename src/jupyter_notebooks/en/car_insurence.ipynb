{
 "cells": [
  {
   "attachments": {},
   "cell_type": "markdown",
   "id": "c3f0e974-faf8-458f-bf2a-06a469d0ea5e",
   "metadata": {},
   "source": [
    "# Modeling Car Insurance Claim Outcomes\n",
    "## Intro\n",
    "Insurance companies invest a lot of [time and money](https://www.accenture.com/_acnmedia/pdf-84/accenture-machine-leaning-insurance.pdf) into optimizing their pricing and accurately estimating the likelihood that customers will make a claim. In many countries insurance it is a legal requirement to have car insurance in order to drive a vehicle on public roads, so the market is very large!\n",
    "\n",
    "Knowing all of this, On the Road car insurance have requested your services in building a model to predict whether a customer will make a claim on their insurance during the policy period. As they have very little expertise and infrastructure for deploying and monitoring machine learning models, they've asked you to identify the single feature that results in the best performing model, as measured by accuracy, so they can start with a simple model in production.\n",
    "\n",
    "They have supplied you with their customer data as a csv file called `car_insurance.csv`, along with a table detailing the column names and descriptions below."
   ]
  },
  {
   "cell_type": "markdown",
   "id": "8928ffdf-25d6-4ad9-909f-0dd8d10b9a42",
   "metadata": {},
   "source": [
    "\n",
    "\n",
    "## The dataset\n",
    "\n",
    "| Column | Description |\n",
    "|--------|-------------|\n",
    "| `id` | Unique client identifier |\n",
    "| `age` | Client's age: <br> <ul><li>`0`: 16-25</li><li>`1`: 26-39</li><li>`2`: 40-64</li><li>`3`: 65+</li></ul> |\n",
    "| `gender` | Client's gender: <br> <ul><li>`0`: Female</li><li>`1`: Male</li></ul> |\n",
    "| `driving_experience` | Years the client has been driving: <br> <ul><li>`0`: 0-9</li><li>`1`: 10-19</li><li>`2`: 20-29</li><li>`3`: 30+</li></ul> |\n",
    "| `education` | Client's level of education: <br> <ul><li>`0`: No education</li><li>`1`: High school</li><li>`2`: University</li></ul> |\n",
    "| `income` | Client's income level: <br> <ul><li>`0`: Poverty</li><li>`1`: Working class</li><li>`2`: Middle class</li><li>`3`: Upper class</li></ul> |\n",
    "| `credit_score` | Client's credit score (between zero and one) |\n",
    "| `vehicle_ownership` | Client's vehicle ownership status: <br><ul><li>`0`: Does not own their vehilce (paying off finance)</li><li>`1`: Owns their vehicle</li></ul> |\n",
    "| `vehcile_year` | Year of vehicle registration: <br><ul><li>`0`: Before 2015</li><li>`1`: 2015 or later</li></ul> |\n",
    "| `married` | Client's marital status: <br><ul><li>`0`: Not married</li><li>`1`: Married</li></ul> |\n",
    "| `children` | Client's number of children |\n",
    "| `postal_code` | Client's postal code | \n",
    "| `annual_mileage` | Number of miles driven by the client each year |\n",
    "| `vehicle_type` | Type of car: <br> <ul><li>`0`: Sedan</li><li>`1`: Sports car</li></ul> |\n",
    "| `speeding_violations` | Total number of speeding violations received by the client | \n",
    "| `duis` | Number of times the client has been caught driving under the influence of alcohol |\n",
    "| `past_accidents` | Total number of previous accidents the client has been involved in |\n",
    "| `outcome` | Whether the client made a claim on their car insurance (response variable): <br><ul><li>`0`: No claim</li><li>`1`: Made a claim</li></ul> |"
   ]
  },
  {
   "cell_type": "code",
   "execution_count": 37,
   "id": "d0eb4f16-5a99-460d-a5ba-706b7ef0bbe7",
   "metadata": {
    "executionCancelledAt": null,
    "executionTime": 49,
    "id": "bA5ajAmk7XH6",
    "lastExecutedAt": 1698402907008,
    "lastScheduledRunId": null,
    "lastSuccessfullyExecutedCode": "# Import required modules\nimport pandas as pd\nimport numpy as np\nfrom statsmodels.formula.api import logit\n\n# import dataset\ndf = pd.read_csv('car_insurance.csv')"
   },
   "outputs": [],
   "source": [
    "# Import required modules\n",
    "import pandas as pd\n",
    "import numpy as np\n",
    "from statsmodels.formula.api import logit\n",
    "\n",
    "# import dataset\n",
    "df = pd.read_csv('car_insurance.csv')"
   ]
  },
  {
   "cell_type": "code",
   "execution_count": 38,
   "id": "6fb70731-96b5-432e-8f64-a5a131edc137",
   "metadata": {
    "executionCancelledAt": null,
    "executionTime": 48,
    "lastExecutedAt": 1698402907057,
    "lastScheduledRunId": null,
    "lastSuccessfullyExecutedCode": "# examine dataset\nprint(df.describe())\nprint(df.isna().sum())",
    "outputsMetadata": {
     "0": {
      "height": 616,
      "type": "stream"
     }
    }
   },
   "outputs": [
    {
     "name": "stdout",
     "output_type": "stream",
     "text": [
      "                  id           age  ...  past_accidents       outcome\n",
      "count   10000.000000  10000.000000  ...    10000.000000  10000.000000\n",
      "mean   500521.906800      1.489500  ...        1.056300      0.313300\n",
      "std    290030.768758      1.025278  ...        1.652454      0.463858\n",
      "min       101.000000      0.000000  ...        0.000000      0.000000\n",
      "25%    249638.500000      1.000000  ...        0.000000      0.000000\n",
      "50%    501777.000000      1.000000  ...        0.000000      0.000000\n",
      "75%    753974.500000      2.000000  ...        2.000000      1.000000\n",
      "max    999976.000000      3.000000  ...       15.000000      1.000000\n",
      "\n",
      "[8 rows x 13 columns]\n",
      "id                       0\n",
      "age                      0\n",
      "gender                   0\n",
      "driving_experience       0\n",
      "education                0\n",
      "income                   0\n",
      "credit_score           982\n",
      "vehicle_ownership        0\n",
      "vehicle_year             0\n",
      "married                  0\n",
      "children                 0\n",
      "postal_code              0\n",
      "annual_mileage         957\n",
      "vehicle_type             0\n",
      "speeding_violations      0\n",
      "duis                     0\n",
      "past_accidents           0\n",
      "outcome                  0\n",
      "dtype: int64\n"
     ]
    }
   ],
   "source": [
    "# examine dataset\n",
    "print(df.describe())\n",
    "print(df.isna().sum())"
   ]
  },
  {
   "cell_type": "code",
   "execution_count": 39,
   "id": "f504f856-98df-42db-8dbc-fcc8fb103ec3",
   "metadata": {
    "executionCancelledAt": null,
    "executionTime": 47,
    "lastExecutedAt": 1698402907104,
    "lastScheduledRunId": null,
    "lastSuccessfullyExecutedCode": "# filling missing values\ndf.credit_score.fillna(value=df.credit_score.mean(), inplace=True)\ndf.annual_mileage.fillna(value=df.annual_mileage.mean(), inplace=True)"
   },
   "outputs": [],
   "source": [
    "# filling missing values\n",
    "df.credit_score.fillna(value=df.credit_score.mean(), inplace=True)\n",
    "df.annual_mileage.fillna(value=df.annual_mileage.mean(), inplace=True)"
   ]
  },
  {
   "cell_type": "code",
   "execution_count": 40,
   "id": "a783cefe-a366-4d0b-8bb7-9700a4269811",
   "metadata": {
    "executionCancelledAt": null,
    "executionTime": 47,
    "lastExecutedAt": 1698402907152,
    "lastScheduledRunId": null,
    "lastSuccessfullyExecutedCode": "# model preparation\nmodels = []\nfeatures = df.drop(columns=['outcome', 'id']).columns",
    "outputsMetadata": {
     "0": {
      "height": 466,
      "type": "stream"
     }
    }
   },
   "outputs": [],
   "source": [
    "# model preparation\n",
    "models = []\n",
    "features = df.drop(columns=['outcome', 'id']).columns"
   ]
  },
  {
   "cell_type": "code",
   "execution_count": 41,
   "id": "8cbc18a9-9f33-493a-9d3c-d9b2daf229e7",
   "metadata": {
    "executionCancelledAt": null,
    "executionTime": 1927,
    "lastExecutedAt": 1698402909080,
    "lastScheduledRunId": null,
    "lastSuccessfullyExecutedCode": "# import model\nfrom statsmodels.formula.api import logit\n\n# model per feature\nmodels = []\nfor i in features:\n    model = logit(f'outcome ~ {i}', data=df).fit()\n    models.append(model)",
    "outputsMetadata": {
     "0": {
      "height": 616,
      "type": "stream"
     }
    }
   },
   "outputs": [
    {
     "name": "stdout",
     "output_type": "stream",
     "text": [
      "Optimization terminated successfully.\n",
      "         Current function value: 0.511794\n",
      "         Iterations 6\n",
      "Optimization terminated successfully.\n",
      "         Current function value: 0.615951\n",
      "         Iterations 5\n",
      "Optimization terminated successfully.\n",
      "         Current function value: 0.467092\n",
      "         Iterations 8\n",
      "Optimization terminated successfully.\n",
      "         Current function value: 0.603742\n",
      "         Iterations 5\n",
      "Optimization terminated successfully.\n",
      "         Current function value: 0.531499\n",
      "         Iterations 6\n",
      "Optimization terminated successfully.\n",
      "         Current function value: 0.572557\n",
      "         Iterations 6\n",
      "Optimization terminated successfully.\n",
      "         Current function value: 0.552412\n",
      "         Iterations 5\n",
      "Optimization terminated successfully.\n",
      "         Current function value: 0.572668\n",
      "         Iterations 6\n",
      "Optimization terminated successfully.\n",
      "         Current function value: 0.586659\n",
      "         Iterations 5\n",
      "Optimization terminated successfully.\n",
      "         Current function value: 0.595431\n",
      "         Iterations 5\n",
      "Optimization terminated successfully.\n",
      "         Current function value: 0.617345\n",
      "         Iterations 5\n",
      "Optimization terminated successfully.\n",
      "         Current function value: 0.605716\n",
      "         Iterations 5\n",
      "Optimization terminated successfully.\n",
      "         Current function value: 0.621700\n",
      "         Iterations 5\n",
      "Optimization terminated successfully.\n",
      "         Current function value: 0.558922\n",
      "         Iterations 7\n",
      "Optimization terminated successfully.\n",
      "         Current function value: 0.598699\n",
      "         Iterations 6\n",
      "Optimization terminated successfully.\n",
      "         Current function value: 0.549220\n",
      "         Iterations 7\n"
     ]
    }
   ],
   "source": [
    "# import model\n",
    "from statsmodels.formula.api import logit\n",
    "\n",
    "# model per feature\n",
    "models = []\n",
    "for i in features:\n",
    "    model = logit(f'outcome ~ {i}', data=df).fit()\n",
    "    models.append(model)"
   ]
  },
  {
   "cell_type": "code",
   "execution_count": 42,
   "id": "6c60d641-dc4b-4619-a97f-841031957925",
   "metadata": {
    "executionCancelledAt": null,
    "executionTime": 202,
    "lastExecutedAt": 1698402909282,
    "lastScheduledRunId": null,
    "lastSuccessfullyExecutedCode": "# measuring performance\naccuracies = []\n\n# Loop through models\nfor feature in range(0, len(models)):\n    # Compute the confusion matrix\n    conf_matrix = models[feature].pred_table()\n    # True negatives\n    tn = conf_matrix[0,0]\n    # True positives\n    tp = conf_matrix[1,1]\n    # False negatives\n    fn = conf_matrix[1,0]\n    # False positives\n    fp = conf_matrix[0,1]\n    # Compute accuracy\n    acc = (tn + tp) / (tn + fn + fp + tp)\n    accuracies.append(acc)"
   },
   "outputs": [],
   "source": [
    "# measuring performance\n",
    "accuracies = []\n",
    "\n",
    "# Loop through models\n",
    "for feature in range(0, len(models)):\n",
    "    # Compute the confusion matrix\n",
    "    conf_matrix = models[feature].pred_table()\n",
    "    # True negatives\n",
    "    tn = conf_matrix[0,0]\n",
    "    # True positives\n",
    "    tp = conf_matrix[1,1]\n",
    "    # False negatives\n",
    "    fn = conf_matrix[1,0]\n",
    "    # False positives\n",
    "    fp = conf_matrix[0,1]\n",
    "    # Compute accuracy\n",
    "    acc = (tn + tp) / (tn + fn + fp + tp)\n",
    "    accuracies.append(acc)"
   ]
  },
  {
   "cell_type": "code",
   "execution_count": 43,
   "id": "74815cd4-d6b4-44f3-b932-0824a0d241ec",
   "metadata": {
    "executionCancelledAt": null,
    "executionTime": 98,
    "lastExecutedAt": 1698402909380,
    "lastScheduledRunId": null,
    "lastSuccessfullyExecutedCode": "# Find the feature with the largest accuracy\nbest_feature = features[accuracies.index(max(accuracies))]\n\n# Create best_feature_df\nbest_feature_df = pd.DataFrame({\"best_feature\": best_feature,\n                                \"best_accuracy\": max(accuracies)},\n                                index=[0])\nbest_feature_df",
    "outputsMetadata": {
     "0": {
      "height": 96,
      "type": "dataFrame"
     }
    }
   },
   "outputs": [
    {
     "data": {
      "application/com.datacamp.data-table.v1+json": {
       "table": {
        "data": [
         {
          "best_accuracy": 0.7771,
          "best_feature": "driving_experience",
          "index": 0
         }
        ],
        "schema": {
         "fields": [
          {
           "name": "index",
           "type": "integer"
          },
          {
           "name": "best_feature",
           "type": "string"
          },
          {
           "name": "best_accuracy",
           "type": "number"
          }
         ],
         "pandas_version": "1.4.0",
         "primaryKey": [
          "index"
         ]
        }
       },
       "total_rows": 1,
       "truncation_type": null
      },
      "text/html": [
       "<div>\n",
       "<style scoped>\n",
       "    .dataframe tbody tr th:only-of-type {\n",
       "        vertical-align: middle;\n",
       "    }\n",
       "\n",
       "    .dataframe tbody tr th {\n",
       "        vertical-align: top;\n",
       "    }\n",
       "\n",
       "    .dataframe thead th {\n",
       "        text-align: right;\n",
       "    }\n",
       "</style>\n",
       "<table border=\"1\" class=\"dataframe\">\n",
       "  <thead>\n",
       "    <tr style=\"text-align: right;\">\n",
       "      <th></th>\n",
       "      <th>best_feature</th>\n",
       "      <th>best_accuracy</th>\n",
       "    </tr>\n",
       "  </thead>\n",
       "  <tbody>\n",
       "    <tr>\n",
       "      <th>0</th>\n",
       "      <td>driving_experience</td>\n",
       "      <td>0.7771</td>\n",
       "    </tr>\n",
       "  </tbody>\n",
       "</table>\n",
       "</div>"
      ],
      "text/plain": [
       "         best_feature  best_accuracy\n",
       "0  driving_experience         0.7771"
      ]
     },
     "execution_count": 43,
     "metadata": {},
     "output_type": "execute_result"
    }
   ],
   "source": [
    "# Find the feature with the largest accuracy\n",
    "best_feature = features[accuracies.index(max(accuracies))]\n",
    "\n",
    "# Create best_feature_df\n",
    "best_feature_df = pd.DataFrame({\"best_feature\": best_feature,\n",
    "                                \"best_accuracy\": max(accuracies)},\n",
    "                                index=[0])\n",
    "best_feature_df"
   ]
  }
 ],
 "metadata": {
  "colab": {
   "name": "Welcome to DataCamp Workspaces.ipynb",
   "provenance": []
  },
  "editor": "DataCamp Workspace",
  "kernelspec": {
   "display_name": "Python 3 (ipykernel)",
   "language": "python",
   "name": "python3"
  },
  "language_info": {
   "codemirror_mode": {
    "name": "ipython",
    "version": 3
   },
   "file_extension": ".py",
   "mimetype": "text/x-python",
   "name": "python",
   "nbconvert_exporter": "python",
   "pygments_lexer": "ipython3",
   "version": "3.8.10"
  },
  "vscode": {
   "interpreter": {
    "hash": "aee8b7b246df8f9039afb4144a1f6fd8d2ca17a180786b69acc140d282b71a49"
   }
  }
 },
 "nbformat": 4,
 "nbformat_minor": 5
}
